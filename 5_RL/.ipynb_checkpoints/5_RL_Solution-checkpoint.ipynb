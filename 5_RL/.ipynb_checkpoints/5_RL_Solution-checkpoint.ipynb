{
 "cells": [
  {
   "cell_type": "markdown",
   "metadata": {
    "colab_type": "text",
    "id": "WoXYKhfZMHiw"
   },
   "source": [
    "# Lab 5: Reinforcement Learning\n",
    "\n",
    "Reinforcement learning (RL) is a subset of machine learning which poses learning problems as interactions between agents and environments. It often assumes agents have no prior knowledge of a world, so they must learn to navigate environments by optimizing a reward function. Within an environment, an agent can take certain actions and receive feedback, in the form of positive or negative rewards, with respect to their decision. As such, an agent's feedback loop is somewhat akin to the idea of \"trial and error\", or the manner in which a child might learn to distinguish between \"good\" and \"bad\" actions.\n",
    "\n",
    "In practical terms, our RL agent will interact with the environment by taking an action at each timestep, receiving a corresponding reward, and updating its state according to what it has \"learned\".  \n",
    "\n",
    "![alt text](https://www.kdnuggets.com/images/reinforcement-learning-fig1-700.jpg)\n",
    "\n",
    "While the ultimate goal of reinforcement learning is to teach agents to act in the real, physical world, games provide a convenient proving ground for developing RL algorithms and agents. Games have some properties that make them particularly well suited for RL: \n",
    "\n",
    "1.   In many cases, games have perfectly describable environments. For example, all rules of chess can be formally written and programmed into a chess game simulator;\n",
    "2.   Games are massively parallelizable. Since they do not require running in the real world, simultaneous environments can be run on large data clusters; \n",
    "3.   Simpler scenarios in games enable fast prototyping. This speeds up the development of algorithms that could eventually run in the real-world; and\n",
    "4.   ... Games are fun! \n",
    "\n",
    "In previous labs, we have explored both supervised (with LSTMs, CNNs) and unsupervised / semi-supervised (with VAEs) learning tasks. Reinforcement learning is fundamentally different, in that we are training a deep learning algorithm to govern the actions of our RL agent, that is trying, within its environment, to find the optimal way to achieve a goal. The goal of training an RL agent is to determine the best next step to take to earn the greatest final payoff or return. In this lab, we focus on building a reinforcement learning algorithm to master two different environments with varying complexity. \n",
    "\n",
    "1.   **Cartpole**:   Balance a pole, protruding from a cart, in an upright position by only moving the base left or right. Environment with a low-dimensional observation space.\n",
    "2.   [**Pong**](https://en.wikipedia.org/wiki/Pong): Beat your competitors (whether other AI or humans!) at the game of Pong. Environment with a high-dimensional observation space -- learning directly from raw pixels.\n",
    "\n",
    "Let's get started! First we'll import TensorFlow, the course package, and some dependencies.\n"
   ]
  },
  {
   "cell_type": "code",
   "execution_count": 1,
   "metadata": {
    "colab": {},
    "colab_type": "code",
    "id": "EvdePP-VyVWp"
   },
   "outputs": [],
   "source": [
    "# MUST download the following packages on your system and restart Jupyter\n",
    "# sudo apt-get install -y xvfb python-opengl x11-utils > /dev/null 2>&1\n",
    "# !pip install gym pyvirtualdisplay scikit-video > /dev/null 2>&1\n",
    "\n",
    "import tensorflow as tf\n",
    "\n",
    "import numpy as np\n",
    "import base64, io, time, gym\n",
    "import IPython, functools\n",
    "import matplotlib.pyplot as plt\n",
    "from tqdm import tqdm\n",
    "\n",
    "import introtodeeplearning as mdl"
   ]
  },
  {
   "cell_type": "markdown",
   "metadata": {
    "colab_type": "text",
    "id": "zmrHSiXKTXTY"
   },
   "source": [
    "Before we dive in, let's take a step back and outline our approach, which is generally applicable to reinforcement learning problems in general:\n",
    "\n",
    "1. **Initialize our environment and our agent**: here we will describe the different observations and actions the agent can make in the environemnt.\n",
    "2. **Define our agent's memory**: this will enable the agent to remember its past actions, observations, and rewards.\n",
    "3. **Define a reward function**: describes the reward associated with an action or sequence of actions.\n",
    "4. **Define the learning algorithm**: this will be used to reinforce the agent's good behaviors and discourage bad behaviors.\n"
   ]
  },
  {
   "cell_type": "markdown",
   "metadata": {
    "colab_type": "text",
    "id": "UT7YL8KBJIIc"
   },
   "source": [
    "# Part 1: Cartpole\n",
    "\n",
    "## 3.1 Define the Cartpole environment and agent\n",
    "\n",
    "### Environment \n",
    "\n",
    "In order to model the environment for both the Cartpole and Pong tasks, we'll be using a toolkit developed by OpenAI called [OpenAI Gym](https://gym.openai.com/). It provides several pre-defined environments for training and testing reinforcement learning agents, including those for classic physics control tasks, Atari video games, and robotic simulations. To access the Cartpole environment, we can use `env = gym.make(\"CartPole-v0\")`, which we gained access to when we imported the `gym` package. We can instantiate different [environments](https://gym.openai.com/envs/#classic_control) by passing the enivronment name to the `make` function.\n",
    "\n",
    "One issue we might experience when developing RL algorithms is that many aspects of the learning process are inherently random: initializing game states, changes in the environment, and the agent's actions. As such, it can be helpful to set a initial \"seed\" for the environment to ensure some level of reproducibility. Much like you might use `numpy.random.seed`, we can call the comparable function in gym, `seed`, with our defined environment to ensure the environment's random variables are initialized the same each time."
   ]
  },
  {
   "cell_type": "code",
   "execution_count": 2,
   "metadata": {
    "colab": {},
    "colab_type": "code",
    "id": "quv9SC0iIYFm"
   },
   "outputs": [
    {
     "data": {
      "text/plain": [
       "[1]"
      ]
     },
     "execution_count": 2,
     "metadata": {},
     "output_type": "execute_result"
    }
   ],
   "source": [
    "### Instantiate the Cartpole environment ###\n",
    "\n",
    "env = gym.make(\"CartPole-v0\")\n",
    "env.seed(1)"
   ]
  },
  {
   "cell_type": "markdown",
   "metadata": {
    "colab_type": "text",
    "id": "mhEITUcKK455"
   },
   "source": [
    "In Cartpole, a pole is attached by an un-actuated joint to a cart, which moves along a frictionless track. The pole starts upright, and the goal is to prevent it from falling over. The system is controlled by applying a force of +1 or -1 to the cart. A reward of +1 is provided for every timestep that the pole remains upright. The episode ends when the pole is more than 15 degrees from vertical, or the cart moves more than 2.4 units from the center of the track. A visual summary of the cartpole environment is depicted below:\n",
    "\n",
    "<img width=\"400px\" src=\"https://danielpiedrahita.files.wordpress.com/2017/02/cart-pole.png\"></img>\n",
    "\n",
    "Given this setup for the environment and the objective of the game, we can think about: 1) what observations help define the environment's state; 2) what actions the agent can take. \n",
    "\n",
    "First, let's consider the observation space. In this Cartpole environment our observations are:\n",
    "\n",
    "1. Cart position\n",
    "2. Cart velocity\n",
    "3. Pole angle\n",
    "4. Pole rotation rate\n",
    "\n",
    "We can confirm the size of the space by querying the environment's observation space:\n"
   ]
  },
  {
   "cell_type": "code",
   "execution_count": 3,
   "metadata": {
    "colab": {},
    "colab_type": "code",
    "id": "UVJaEcbdIX82"
   },
   "outputs": [
    {
     "name": "stdout",
     "output_type": "stream",
     "text": [
      "Environment has observation space = Box(4,)\n"
     ]
    }
   ],
   "source": [
    "n_observations = env.observation_space\n",
    "print(\"Environment has observation space =\", n_observations)"
   ]
  },
  {
   "cell_type": "markdown",
   "metadata": {
    "colab_type": "text",
    "id": "ZibGgjrALgPM"
   },
   "source": [
    "Second, we consider the action space. At every time step, the agent can move either right or left. Again we can confirm the size of the action space by querying the environment:"
   ]
  },
  {
   "cell_type": "code",
   "execution_count": 4,
   "metadata": {
    "colab": {},
    "colab_type": "code",
    "id": "qc9SIPxBIXrm"
   },
   "outputs": [
    {
     "name": "stdout",
     "output_type": "stream",
     "text": [
      "Number of possible actions that the agent can choose from = 2\n"
     ]
    }
   ],
   "source": [
    "n_actions = env.action_space.n\n",
    "print(\"Number of possible actions that the agent can choose from =\", n_actions)"
   ]
  },
  {
   "cell_type": "markdown",
   "metadata": {
    "colab_type": "text",
    "id": "pPfHME8aRKkb"
   },
   "source": [
    "### Cartpole agent\n",
    "\n",
    "Now that we have instantiated the environment and understood the dimensionality of the observation and action spaces, we are ready to define our agent. In deep reinforcement learning, a deep neural network defines the agent. This network will take as input an observation of the environment and output the probability of taking each of the possible actions. Since Cartpole is defined by a low-dimensional observation space, a simple feed-forward neural network should work well for our agent. We will define this using the `Sequential` API.\n"
   ]
  },
  {
   "cell_type": "code",
   "execution_count": 5,
   "metadata": {
    "colab": {},
    "colab_type": "code",
    "id": "W-o_XK4oQ4eu"
   },
   "outputs": [],
   "source": [
    "### Define the Cartpole agent ###\n",
    "\n",
    "# Defines a feed-forward neural network\n",
    "def create_cartpole_model():\n",
    "  model = tf.keras.models.Sequential([\n",
    "      # First Dense layer\n",
    "      tf.keras.layers.Dense(units=32, activation='relu'),\n",
    "\n",
    "      # TODO: Define the last Dense layer, which will provide the network's output.\n",
    "      # Think about the space the agent needs to act in!\n",
    "      tf.keras.layers.Dense(units=n_actions, activation=None) # TODO\n",
    "      # [TODO Dense layer to output action probabilities]\n",
    "  ])\n",
    "  return model\n",
    "\n",
    "cartpole_model = create_cartpole_model()"
   ]
  },
  {
   "cell_type": "markdown",
   "metadata": {
    "colab_type": "text",
    "id": "d5D5NSIYS2IW"
   },
   "source": [
    "Now that we have defined the core network architecture, we will define an *action function* that executes a forward pass through the network, given a set of observations, and samples from the output. This sampling from the output probabilities will be used to select the next action for the agent. \n",
    "\n",
    "**Critically, this action function is totally general -- we will use this function for both Cartpole and Pong, and it is applicable to other RL tasks, as well!**"
   ]
  },
  {
   "cell_type": "code",
   "execution_count": 6,
   "metadata": {
    "colab": {},
    "colab_type": "code",
    "id": "E_vVZRr8Q4R_"
   },
   "outputs": [],
   "source": [
    "### Define the agent's action function ###\n",
    "\n",
    "# Function that takes observations as input, executes a forward pass through model, \n",
    "#   and outputs a sampled action.\n",
    "# Arguments:\n",
    "#   model: the network that defines our agent\n",
    "#   observation: observation which is fed as input to the model\n",
    "# Returns:\n",
    "#   action: choice of agent action\n",
    "def choose_action(model, observation):\n",
    "  # add batch dimension to the observation\n",
    "  observation = np.expand_dims(observation, axis=0)\n",
    "\n",
    "  '''TODO: feed the observations through the model to predict the log probabilities of each possible action.'''\n",
    "  logits = model.predict(observation) # TODO\n",
    "  # logits = model.predict('''TODO''')\n",
    "  \n",
    "  # pass the log probabilities through a softmax to compute true probabilities\n",
    "  prob_weights = tf.nn.softmax(logits).numpy()\n",
    "  \n",
    "  '''TODO: randomly sample from the prob_weights to pick an action.\n",
    "  Hint: carefully consider the dimensionality of the input probabilities (vector) and the output action (scalar)'''\n",
    "  action = np.random.choice(n_actions, size=1, p=prob_weights.flatten())[0] # TODO\n",
    "  # action = np.random.choice('''TODO''', size=1, p=''''TODO''')['''TODO''']\n",
    "\n",
    "  return action"
   ]
  },
  {
   "cell_type": "markdown",
   "metadata": {
    "colab_type": "text",
    "id": "_tR9uAWcTnkr"
   },
   "source": [
    "## 3.2 Define the agent's memory\n",
    "\n",
    "Now that we have instantiated the environment and defined the agent network architecture and action function, we are ready to move on to the next step in our RL workflow:\n",
    "1. **Initialize our environment and our agent**: here we will describe the different observations and actions the agent can make in the environemnt.\n",
    "2. **Define our agent's memory**: this will enable the agent to remember its past actions, observations, and rewards.\n",
    "3. **Define the learning algorithm**: this will be used to reinforce the agent's good behaviors and discourage bad behaviors.\n",
    "\n",
    "In reinforcement learning, training occurs alongside the agent's acting in the environment; an *episode* refers to a sequence of actions that ends in some terminal state, such as the pole falling down or the cart crashing. The agent will need to remember all of its observations and actions, such that once an episode ends, it can learn to \"reinforce\" the good actions and punish the undesirable actions via training. Our first step is to define a simple memory buffer that contains the agent's observations, actions, and received rewards from a given episode. \n",
    "\n",
    "**Once again, note the modularity of this memory buffer -- it can and will be applied to other RL tasks as well!**"
   ]
  },
  {
   "cell_type": "code",
   "execution_count": 7,
   "metadata": {
    "colab": {},
    "colab_type": "code",
    "id": "8MM6JwXVQ4JG"
   },
   "outputs": [],
   "source": [
    "### Agent Memory ###\n",
    "\n",
    "class Memory:\n",
    "  def __init__(self): \n",
    "      self.clear()\n",
    "\n",
    "  # Resets/restarts the memory buffer\n",
    "  def clear(self): \n",
    "      self.observations = []\n",
    "      self.actions = []\n",
    "      self.rewards = []\n",
    "\n",
    "  # Add observations, actions, rewards to memory\n",
    "  def add_to_memory(self, new_observation, new_action, new_reward): \n",
    "      self.observations.append(new_observation)\n",
    "      '''TODO: update the list of actions with new action'''\n",
    "      self.actions.append(new_action) # TODO\n",
    "      # ['''TODO''']\n",
    "      '''TODO: update the list of rewards with new reward'''\n",
    "      self.rewards.append(new_reward) # TODO\n",
    "      # ['''TODO''']\n",
    "        \n",
    "memory = Memory()"
   ]
  },
  {
   "cell_type": "markdown",
   "metadata": {
    "colab_type": "text",
    "id": "D4YhtPaUVj5m"
   },
   "source": [
    "## 3.3 Reward function\n",
    "\n",
    "We're almost ready to begin the learning algorithm for our agent! The next step is to compute the rewards of our agent as it acts in the environment. Since we (and the agent) is uncertain about if and when the game or task will end (i.e., when the pole will fall), it is useful to emphasize getting rewards **now** rather than later in the future -- this is the idea of discounting. This is a similar concept to discounting money in the case of interest. ecall from lecture, we use reward discount to give more preference at getting rewards now rather than later in the future. The idea of discounting rewards is similar to discounting money in the case of interest.\n",
    "\n",
    "To compute the expected cumulative reward, known as the **return**, at a given timestep in a learning episode, we sum the discounted rewards expected at that time step $t$, within a learning episode, and projecting into the future. We define the return (cumulative reward) at a time step $t$, $R_{t}$ as:\n",
    "\n",
    ">$R_{t}=\\sum_{k=0}^\\infty\\gamma^kr_{t+k}$\n",
    "\n",
    "where  $0 < \\gamma < 1$ is the discount factor and $r_{t}$ is the reward at time step $t$, and the index $k$ increments projection into the future within a single learning episode. Intuitively, you can think of this function as depreciating any rewards received at later time steps, which will force the agent prioritize getting rewards now. Since we can't extend episodes to infinity, in practice the computation will be limited to the number of timesteps in an episode -- after that the reward is assumed to be zero.\n",
    "\n",
    "Take note of the form of this sum -- we'll have to be clever about how we implement this function. Specifically, we'll need to initialize an array of zeros, with length of the number of time steps, and fill it with the real discounted reward values as we loop through the rewards from the episode, which will have been saved in the agents memory. What we ultimately care about is which actions are better relative to other actions taken in that episode -- so, we'll normalize our computed rewards, using the mean and standard deviation of the rewards across the learning episode.\n"
   ]
  },
  {
   "cell_type": "code",
   "execution_count": 8,
   "metadata": {
    "colab": {},
    "colab_type": "code",
    "id": "5_Q2OFYtQ32X"
   },
   "outputs": [],
   "source": [
    "### Reward function ###\n",
    "\n",
    "# Helper function that normalizes an np.array x\n",
    "def normalize(x):\n",
    "  x -= np.mean(x)\n",
    "  x /= np.std(x)\n",
    "  return x.astype(np.float32)\n",
    "\n",
    "# Compute normalized, discounted, cumulative rewards (i.e., return)\n",
    "# Arguments:\n",
    "#   rewards: reward at timesteps in episode\n",
    "#   gamma: discounting factor\n",
    "# Returns:\n",
    "#   normalized discounted reward\n",
    "def discount_rewards(rewards, gamma=0.95): \n",
    "  discounted_rewards = np.zeros_like(rewards)\n",
    "  R = 0\n",
    "  for t in reversed(range(0, len(rewards))):\n",
    "      # update the total discounted reward\n",
    "      R = R * gamma + rewards[t]\n",
    "      discounted_rewards[t] = R\n",
    "      \n",
    "  return normalize(discounted_rewards)"
   ]
  },
  {
   "cell_type": "markdown",
   "metadata": {
    "colab_type": "text",
    "id": "QzbY-mjGYcmt"
   },
   "source": [
    "## 3.4 Learning algorithm\n",
    "\n",
    "Now we can start to define the learing algorithm which will be used to reinforce good behaviors of the agent and discourage bad behaviours. In this lab, we will focus on *policy gradient* methods which aim to **maximize** the likelihood of actions that result in large rewards. Equivalently, this means that we want to **minimize** the negative likelihood of these same actions. We achieve this by simply **scaling** the probabilities by their associated rewards -- effectively amplifying the likelihood of actions that resujlt in large rewards.\n",
    "\n",
    "Since the log function is monotonically increasing, this means that minimizing **negative likelihood** is equivalent to minimizing **negative log-likelihood**.  Recall that we can easily compute the negative log-likelihood of a discrete action by evaluting its [softmax cross entropy](https://www.tensorflow.org/api_docs/python/tf/nn/sparse_softmax_cross_entropy_with_logits). Like in supervised learning, we can use stochastic gradient descent methods to achieve the desired minimization. \n",
    "\n",
    "Let's begin by defining the loss function."
   ]
  },
  {
   "cell_type": "code",
   "execution_count": 9,
   "metadata": {
    "colab": {},
    "colab_type": "code",
    "id": "fsgZ3IDCY_Zn"
   },
   "outputs": [],
   "source": [
    "### Loss function ###\n",
    "\n",
    "# Arguments:\n",
    "#   logits: network's predictions for actions to take\n",
    "#   actions: the actions the agent took in an episode\n",
    "#   rewards: the rewards the agent received in an episode\n",
    "# Returns:\n",
    "#   loss\n",
    "def compute_loss(logits, actions, rewards): \n",
    "  '''TODO: complete the function call to compute the negative log probabilities'''\n",
    "  neg_logprob = tf.nn.sparse_softmax_cross_entropy_with_logits(logits=logits, labels=actions) # TODO\n",
    "  # neg_logprob = tf.nn.sparse_softmax_cross_entropy_with_logits(logits='''TODO''', labels='''TODO''')\n",
    "  \n",
    "  '''TODO: scale the negative log probability by the rewards'''\n",
    "  loss = tf.reduce_mean( neg_logprob * rewards ) # TODO\n",
    "  # loss = tf.reduce_mean('''TODO''')\n",
    "  return loss"
   ]
  },
  {
   "cell_type": "markdown",
   "metadata": {
    "colab_type": "text",
    "id": "Rr5vQ9fqbPpp"
   },
   "source": [
    "Now let's use the loss function to define a training step of our learning algorithm:"
   ]
  },
  {
   "cell_type": "code",
   "execution_count": 10,
   "metadata": {
    "colab": {},
    "colab_type": "code",
    "id": "_50ada7nbZ7L"
   },
   "outputs": [],
   "source": [
    "### Training step (forward and backpropagation) ###\n",
    "\n",
    "def train_step(model, optimizer, observations, actions, discounted_rewards):\n",
    "  with tf.GradientTape() as tape:\n",
    "      # Forward propagate through the agent network\n",
    "      logits = model(observations)\n",
    "\n",
    "      '''TODO: call the compute_loss function to compute the loss'''\n",
    "      loss = compute_loss(logits, actions, discounted_rewards) # TODO\n",
    "      # loss = compute_loss('''TODO''', '''TODO''', '''TODO''')\n",
    "\n",
    "  '''TODO: run backpropagation to minimize the loss using the tape.gradient method'''\n",
    "  grads = tape.gradient(loss, model.trainable_variables) # TODO\n",
    "  # grads = tape.gradient('''TODO''', model.trainable_variables)\n",
    "  optimizer.apply_gradients(zip(grads, model.trainable_variables))\n"
   ]
  },
  {
   "cell_type": "markdown",
   "metadata": {
    "colab_type": "text",
    "id": "XsjKXh6BcgjR"
   },
   "source": [
    "## 3.5 Run cartpole!\n",
    "\n",
    "Having had no prior knowledge of the environment, the agent will begin to learn how to balance the pole on the cart based only on the feedback received from the environment! Having defined how our agent can move, how it takes in new observations, and how it updates its state, we'll see how it gradually learns a policy of actions to optimize balancing the pole as long as possible. To do this, we'll track how the rewards evolve as a function of training -- how should the rewards change as training progresses?"
   ]
  },
  {
   "cell_type": "code",
   "execution_count": null,
   "metadata": {
    "colab": {},
    "colab_type": "code",
    "id": "XmOzc2rrcn8Q"
   },
   "outputs": [
    {
     "data": {
      "image/png": "[encoded data removed]",
      "text/plain": [
       "<Figure size 432x288 with 1 Axes>"
      ]
     },
     "metadata": {},
     "output_type": "display_data"
    }
   ],
   "source": [
    "### Cartpole training! ###\n",
    "\n",
    "# Learning rate and optimizer\n",
    "learning_rate = 1e-3\n",
    "optimizer = tf.keras.optimizers.Adam(learning_rate)\n",
    "\n",
    "# instantiate cartpole agent\n",
    "cartpole_model = create_cartpole_model()\n",
    "\n",
    "# to track our progress\n",
    "smoothed_reward = mdl.util.LossHistory(smoothing_factor=0.9)\n",
    "plotter = mdl.util.PeriodicPlotter(sec=2, xlabel='Iterations', ylabel='Rewards')\n",
    "\n",
    "if hasattr(tqdm, '_instances'): tqdm._instances.clear() # clear if it exists\n",
    "for i_episode in range(500):\n",
    "\n",
    "  plotter.plot(smoothed_reward.get())\n",
    "\n",
    "  # Restart the environment\n",
    "  observation = env.reset()\n",
    "  memory.clear()\n",
    "\n",
    "  while True:\n",
    "      # using our observation, choose an action and take it in the environment\n",
    "      action = choose_action(cartpole_model, observation)\n",
    "      next_observation, reward, done, info = env.step(action)\n",
    "      # add to memory\n",
    "      memory.add_to_memory(observation, action, reward)\n",
    "      \n",
    "      # is the episode over? did you crash or do so well that you're done?\n",
    "      if done:\n",
    "          # determine total reward and keep a record of this\n",
    "          total_reward = sum(memory.rewards)\n",
    "          smoothed_reward.append(total_reward)\n",
    "          \n",
    "          # initiate training - remember we don't know anything about how the \n",
    "          #   agent is doing until it has crashed!\n",
    "          train_step(cartpole_model, optimizer, \n",
    "                     observations=np.vstack(memory.observations),\n",
    "                     actions=np.array(memory.actions),\n",
    "                     discounted_rewards = discount_rewards(memory.rewards))\n",
    "          \n",
    "          # reset the memory\n",
    "          memory.clear()\n",
    "          break\n",
    "      # update our observatons\n",
    "      observation = next_observation"
   ]
  },
  {
   "cell_type": "markdown",
   "metadata": {
    "colab_type": "text",
    "id": "mkcUtGF1VE-K"
   },
   "source": [
    "To get a sense of how our agent did, we can save a video of the trained model working on balancing the pole. Realize that this is a brand new environment that the agent has not seen before!\n",
    "\n",
    "Let's display the saved video to watch how our agent did!\n"
   ]
  },
  {
   "cell_type": "code",
   "execution_count": null,
   "metadata": {
    "colab": {},
    "colab_type": "code",
    "id": "PAYBkv6Zbk0J",
    "scrolled": true
   },
   "outputs": [],
   "source": [
    "from IPython.display import display\n",
    "\n",
    "saved_cartpole = mdl.lab5.save_video_of_model(cartpole_model, \"CartPole-v0\")\n",
    "display(mdl.lab5.play_video(saved_cartpole))\n",
    "print(\"Click this link if the video does not play in your browser to download the video directly to your desktop with Ctrl+S: \", end=\"\")\n",
    "display(IPython.display.FileLink(saved_cartpole))"
   ]
  },
  {
   "cell_type": "markdown",
   "metadata": {
    "colab_type": "text",
    "id": "CSbVNDpaVb3_"
   },
   "source": [
    "How does the agent perform? Could you train it for shorter amounts of time and still perform well? Do you think that training longer would help even more? "
   ]
  },
  {
   "cell_type": "markdown",
   "metadata": {
    "colab_type": "text",
    "id": "Eu6Mqxc720ST"
   },
   "source": [
    "# Part 2: Pong\n",
    "\n",
    "In Cartpole, we dealt with an environment that was static -- in other words, it didn't change over time. What happens if our environment is dynamic and unpredictable? Well that's exactly the case in [Pong](https://en.wikipedia.org/wiki/Pong), since part of the environment is the opposing player. We don't know how our opponent will act or react to our actions, so the complexity of our problem increases. It also becomes much more interesting, since we can compete to beat our opponent. RL provides a powerful framework for training AI systems with the ability to handle and interact with dynamic, unpredictable environments. In this part of the lab, we'll use the tools and workflow we explored in Part 1 to build an RL agent capable of playing the game of Pong.\n"
   ]
  },
  {
   "cell_type": "markdown",
   "metadata": {
    "colab_type": "text",
    "id": "srZ4YE29isuA"
   },
   "source": [
    "## 3.6 Define and inspect the Pong environment\n",
    "\n",
    "As with Cartpole, we'll instantiate the Pong environment in the OpenAI gym, using a seed of 1."
   ]
  },
  {
   "cell_type": "code",
   "execution_count": null,
   "metadata": {
    "colab": {},
    "colab_type": "code",
    "id": "lbYHLr66i15n"
   },
   "outputs": [],
   "source": [
    "env = gym.make(\"Pong-v0\", frameskip=5)\n",
    "env.seed(1); # for reproducibility"
   ]
  },
  {
   "cell_type": "markdown",
   "metadata": {
    "colab_type": "text",
    "id": "52uZ2Xhyi-MW"
   },
   "source": [
    "Let's next consider the observation space for the Pong environment. Instead of four physical descriptors of the cart-pole setup, in the case of Pong our observations are the individual video frames (i.e., images) that depict the state of the board. Thus, the observations are 210x160 RGB images (arrays of shape (210,160,3)).\n",
    "\n",
    "We can again confirm the size of the observation space by query:"
   ]
  },
  {
   "cell_type": "code",
   "execution_count": null,
   "metadata": {
    "colab": {},
    "colab_type": "code",
    "id": "0yX4GWvxjnHS"
   },
   "outputs": [],
   "source": [
    "print(\"Environment has observation space =\", env.observation_space)"
   ]
  },
  {
   "cell_type": "markdown",
   "metadata": {
    "colab_type": "text",
    "id": "uuEC2TdSjx9D"
   },
   "source": [
    "In Pong, at every time step, the agent (which controls the paddle) has six actions to choose from: no-op (no operation), move right, move left, fire, fire right, and fire left. Let's confirm the size of the action space by querying the environment:"
   ]
  },
  {
   "cell_type": "code",
   "execution_count": null,
   "metadata": {
    "colab": {},
    "colab_type": "code",
    "id": "Iuy9oPc1kag3"
   },
   "outputs": [],
   "source": [
    "n_actions = env.action_space.n\n",
    "print(\"Number of possible actions that the agent can choose from =\", n_actions)"
   ]
  },
  {
   "cell_type": "markdown",
   "metadata": {
    "colab_type": "text",
    "id": "9-fghDRigUE5"
   },
   "source": [
    "## 3.7 Define the Pong agent\n",
    "\n",
    "As before, we'll use a neural network to define our agent. What network architecture do you think would be especially well suited to this game? Since our observations are now in the form of images, we'll add convolutional layers to the network to increase the learning capacity of our network."
   ]
  },
  {
   "cell_type": "code",
   "execution_count": null,
   "metadata": {
    "colab": {},
    "colab_type": "code",
    "id": "IJiqbFYpgYRH"
   },
   "outputs": [],
   "source": [
    "### Define the Pong agent ###\n",
    "\n",
    "# Functionally define layers for convenience\n",
    "# All convolutional layers will have ReLu activation\n",
    "Conv2D = functools.partial(tf.keras.layers.Conv2D, padding='same', activation='relu')\n",
    "Flatten = tf.keras.layers.Flatten\n",
    "Dense = tf.keras.layers.Dense\n",
    "\n",
    "# Defines a CNN for the Pong agent\n",
    "def create_pong_model():\n",
    "  model = tf.keras.models.Sequential([\n",
    "    # Convolutional layers\n",
    "    # First, 16 7x7 filters and 4x4 stride\n",
    "    Conv2D(filters=16, kernel_size=7, strides=4),\n",
    "\n",
    "    # TODO: define convolutional layers with 32 5x5 filters and 2x2 stride\n",
    "    Conv2D(filters=32, kernel_size=5, strides=2), # TODO\n",
    "    # Conv2D('''TODO'''),\n",
    "\n",
    "    # TODO: define convolutional layers with 48 3x3 filters and 2x2 stride\n",
    "    Conv2D(filters=48, kernel_size=3, strides=2), # TODO\n",
    "    # Conv2D('''TODO'''),\n",
    "\n",
    "    Flatten(),\n",
    "    \n",
    "    # Fully connected layer and output\n",
    "    Dense(units=64, activation='relu'),\n",
    "    # TODO: define the output dimension of the last Dense layer. \n",
    "    # Pay attention to the space the agent needs to act in\n",
    "    Dense(units=n_actions, activation=None) # TODO\n",
    "    # Dense('''TODO''')\n",
    "  \n",
    "  ])\n",
    "  return model\n",
    "\n",
    "pong_model = create_pong_model()"
   ]
  },
  {
   "cell_type": "markdown",
   "metadata": {
    "colab_type": "text",
    "id": "yaeZ067olFiJ"
   },
   "source": [
    "Since we've already defined the action function, `choose_action(model, observation)`, we don't need to define it again. Instead, we'll be able to reuse it later on by passing in our new model we've just created, `pong_model`. This is awesome because our action function provides a modular and generalizable method for all sorts of RL agents!"
   ]
  },
  {
   "cell_type": "markdown",
   "metadata": {
    "colab_type": "text",
    "id": "l0RvqOVkmc2r"
   },
   "source": [
    "## 3.8 Pong-specific functions\n",
    "\n",
    "In Part 1 (Cartpole), we implemented some key functions and classes to build and train our RL agent -- `choose_action(model, observation)` and the `Memory` class, for example. However, in getting ready to apply these to a new game like Pong, we might need to make some slight modifications. \n",
    "\n",
    "Namely, we need to think about what happens when a game ends. In Pong, we know a game has ended if the reward is +1 (we won!) or -1 (we lost unfortunately). Otherwise, we expect the reward at a timestep to be zero -- the players (or agents) are just playing eachother. So, after a game ends, we will need to reset the reward to zero when a game ends. This will result in a modified reward function."
   ]
  },
  {
   "cell_type": "code",
   "execution_count": null,
   "metadata": {
    "colab": {},
    "colab_type": "code",
    "id": "iEZG2o50luLu"
   },
   "outputs": [],
   "source": [
    "### Pong reward function ###\n",
    "\n",
    "# Compute normalized, discounted rewards for Pong (i.e., return)\n",
    "# Arguments:\n",
    "#   rewards: reward at timesteps in episode\n",
    "#   gamma: discounting factor. Note increase to 0.99 -- rate of depreciation will be slower.\n",
    "# Returns:\n",
    "#   normalized discounted reward\n",
    "def discount_rewards(rewards, gamma=0.99): \n",
    "  discounted_rewards = np.zeros_like(rewards)\n",
    "  R = 0\n",
    "  for t in reversed(range(0, len(rewards))):\n",
    "      # NEW: Reset the sum if the reward is not 0 (the game has ended!)\n",
    "      if rewards[t] != 0:\n",
    "        R = 0\n",
    "      # update the total discounted reward as before\n",
    "      R = R * gamma + rewards[t]\n",
    "      discounted_rewards[t] = R\n",
    "      \n",
    "  return normalize(discounted_rewards)"
   ]
  },
  {
   "cell_type": "markdown",
   "metadata": {
    "colab_type": "text",
    "id": "HopLpb4IoOqA"
   },
   "source": [
    "Additionally, we have to consider the nature of the observations in the Pong environment, and how they will be fed into our network. Our observations in this case are images. Before we input an image into our network, we'll do a bit of pre-processing to crop and scale, clean up the background colors to a single color, and set the important game elements to a single color. Let's use this function to visualize what an observation might look like before and after pre-processing."
   ]
  },
  {
   "cell_type": "code",
   "execution_count": null,
   "metadata": {
    "colab": {},
    "colab_type": "code",
    "id": "no5IIYtFm8pI"
   },
   "outputs": [],
   "source": [
    "observation = env.reset()\n",
    "for i in range(30):\n",
    "  observation, _,_,_ = env.step(0)\n",
    "observation_pp = mdl.lab5.preprocess_pong(observation)\n",
    "\n",
    "f = plt.figure(figsize=(10,3))\n",
    "ax = f.add_subplot(121)\n",
    "ax2 = f.add_subplot(122)\n",
    "ax.imshow(observation); ax.grid(False);\n",
    "ax2.imshow(np.squeeze(observation_pp)); ax2.grid(False); plt.title('Preprocessed Observation');"
   ]
  },
  {
   "cell_type": "markdown",
   "metadata": {
    "colab_type": "text",
    "id": "bYwIWC-Cz8F2"
   },
   "source": [
    "What do you notice? How might these changes be important for training our RL algorithm?"
   ]
  },
  {
   "cell_type": "markdown",
   "metadata": {
    "colab_type": "text",
    "id": "mRqcaDQ1pm3x"
   },
   "source": [
    "## 3.9 Training Pong\n",
    "\n",
    "We're now all set up to start training our RL algorithm and agent for the game of Pong! We've already defined our loss function with `compute_loss`, which employs policy gradient learning, as well as our backpropagation step with `train_step` which is beautiful! We will use these functions to execute training the Pong agent. Let's walk through the training block.\n",
    "\n",
    "In Pong, rather than feeding our network one image at a time, it can actually improve performance to input the difference between two consecutive observations, which really gives us information about the movement between frames -- how the game is changing. We'll first pre-process the raw observation, `x`, and then we'll compute the difference with the image frame we saw one timestep before. \n",
    "\n",
    "This observation change will be forward propagated through our Pong agent, the CNN network model, which will then predict the next action to take based on this observation. The raw reward will be computed, and the observation, action, and reward will be recorded into memory. This will continue until a training episode, i.e., a game, ends.\n",
    "\n",
    "Then, we will compute the discounted rewards, and use this information to execute a training step. Memory will be cleared, and we will do it all over again!\n",
    "\n",
    "Let's run the code block to train our Pong agent. Note that completing training will take quite a bit of time (estimated at least a couple of hours). We will again visualize the evolution of the total reward as a function of training to get a sense of how the agent is learning."
   ]
  },
  {
   "cell_type": "code",
   "execution_count": null,
   "metadata": {
    "colab": {},
    "colab_type": "code",
    "id": "xCwyQQrPnkZG"
   },
   "outputs": [],
   "source": [
    "### Training Pong ###\n",
    "\n",
    "# Hyperparameters\n",
    "learning_rate=1e-4\n",
    "MAX_ITERS = 10000 # increase the maximum number of episodes, since Pong is more complex!\n",
    "\n",
    "# Model and optimizer\n",
    "pong_model = create_pong_model()\n",
    "optimizer = tf.keras.optimizers.Adam(learning_rate)\n",
    "\n",
    "# plotting\n",
    "smoothed_reward = mdl.util.LossHistory(smoothing_factor=0.9)\n",
    "plotter = mdl.util.PeriodicPlotter(sec=5, xlabel='Iterations', ylabel='Rewards')\n",
    "memory = Memory()\n",
    "\n",
    "for i_episode in range(MAX_ITERS):\n",
    "\n",
    "  plotter.plot(smoothed_reward.get())\n",
    "\n",
    "  # Restart the environment\n",
    "  observation = env.reset()\n",
    "  previous_frame = mdl.lab5.preprocess_pong(observation)\n",
    "\n",
    "  while True:\n",
    "      # Pre-process image \n",
    "      current_frame = mdl.lab5.preprocess_pong(observation)\n",
    "      \n",
    "      '''TODO: determine the observation change\n",
    "      Hint: this is the difference between the past two frames'''\n",
    "      obs_change = current_frame - previous_frame # TODO\n",
    "      # obs_change = # TODO\n",
    "      \n",
    "      '''TODO: choose an action for the pong model, using the frame difference, and evaluate'''\n",
    "      action = choose_action(pong_model, obs_change) # TODO \n",
    "      # action = # TODO\n",
    "      # Take the chosen action\n",
    "      next_observation, reward, done, info = env.step(action)\n",
    "\n",
    "      '''TODO: save the observed frame difference, the action that was taken, and the resulting reward!'''\n",
    "      memory.add_to_memory(obs_change, action, reward) # TODO\n",
    "      \n",
    "      # is the episode over? did you crash or do so well that you're done?\n",
    "      if done:\n",
    "          # determine total reward and keep a record of this\n",
    "          total_reward = sum(memory.rewards)\n",
    "          smoothed_reward.append( total_reward )\n",
    "\n",
    "          # begin training\n",
    "          train_step(pong_model, \n",
    "                     optimizer, \n",
    "                     observations = np.stack(memory.observations, 0), \n",
    "                     actions = np.array(memory.actions),\n",
    "                     discounted_rewards = discount_rewards(memory.rewards))\n",
    "          \n",
    "          memory.clear()\n",
    "          break\n",
    "\n",
    "      observation = next_observation\n",
    "      previous_frame = current_frame"
   ]
  },
  {
   "cell_type": "markdown",
   "metadata": {
    "colab_type": "text",
    "id": "8LiEY5Y_ts-Z"
   },
   "source": [
    "Finally we can put our trained agent to the test! It will play in a newly instantiated Pong environment against the \"computer\", a base AI system for Pong. Your agent plays as the green paddle. Let's watch the match instant replay!"
   ]
  },
  {
   "cell_type": "code",
   "execution_count": null,
   "metadata": {
    "colab": {},
    "colab_type": "code",
    "id": "TvHXbkL0tR6M"
   },
   "outputs": [],
   "source": [
    "from IPython.display import display\n",
    "saved_pong = mdl.lab5.save_video_of_model(\n",
    "    pong_model, \"Pong-v0\", obs_diff=True, \n",
    "    pp_fn=mdl.lab5.preprocess_pong)\n",
    "display(mdl.lab5.play_video(saved_pong))\n",
    "\n",
    "print(\"Click this link if the video does not play in your browser to download the video directly to your desktop with Ctrl+S: \", end=\"\")\n",
    "display(IPython.display.FileLink(saved_pong))"
   ]
  },
  {
   "cell_type": "markdown",
   "metadata": {
    "colab_type": "text",
    "id": "TIlwIgBP3Js6"
   },
   "source": [
    "## 3.10 Conclusion\n",
    "\n",
    "That's it! Congratulations on training two RL agents and putting them to the test! We encourage you to consider the following:\n",
    "\n",
    "*   How does the agent perform?\n",
    "*   The above code is not optimized for Pong and will not perform well out of the box, try to make some simple improvements to sucessfully train the agent to play the game.\n",
    "*   Could you train it for shorter amounts of time  and still perform well?\n",
    "*   Do you think that training longer would help even more? \n",
    "* How does the complexity of Pong relative to Cartpole alter the rate at which the agent learns and its performance? \n",
    "* What are some things you could change about the agent or the learning process to potentially improve performance?\n",
    "\n",
    "If you want to go further, try to optimize your model to achieve the best performance! "
   ]
  },
  {
   "cell_type": "code",
   "execution_count": null,
   "metadata": {},
   "outputs": [],
   "source": []
  }
 ],
 "metadata": {
  "accelerator": "GPU",
  "colab": {
   "collapsed_sections": [
    "jrI6q7RmWQam"
   ],
   "name": "RL_Solution.ipynb",
   "provenance": [
    {
     "file_id": "https://github.com/aamini/introtodeeplearning/blob/master/lab3/Lab3_rl_solution.ipynb",
     "timestamp": 1578019824654
    }
   ]
  },
  "kernelspec": {
   "display_name": "Python 3",
   "language": "python",
   "name": "python3"
  },
  "language_info": {
   "codemirror_mode": {
    "name": "ipython",
    "version": 3
   },
   "file_extension": ".py",
   "mimetype": "text/x-python",
   "name": "python",
   "nbconvert_exporter": "python",
   "pygments_lexer": "ipython3",
   "version": "3.7.7"
  }
 },
 "nbformat": 4,
 "nbformat_minor": 1
}
